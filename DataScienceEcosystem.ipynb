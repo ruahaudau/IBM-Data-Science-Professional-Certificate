{
 "cells": [
  {
   "cell_type": "markdown",
   "id": "7507d549-2275-4ee2-b819-44eb501ab70e",
   "metadata": {},
   "source": [
    "<h1>Data Science Tools and Ecosystem</h1>"
   ]
  },
  {
   "cell_type": "markdown",
   "id": "e57aa57c-15bf-457c-b1ae-dc9498c83f57",
   "metadata": {},
   "source": [
    "In this notebook, Data Science Tools and Ecosystem are summarized."
   ]
  },
  {
   "cell_type": "markdown",
   "id": "39da6e01-cfcf-44bd-93e9-11ce1e428eb4",
   "metadata": {},
   "source": [
    "**Objectives:**\n",
    "\n",
    "The data science ecosystem consists of many open source and commercial options, and include both traditional desktop applications and server-based tools, as well as cloud-based services that can be accessed using web-browsers and mobile interfaces. Data Science Tasks support the following:\n",
    "\n",
    "* Code Asset Management - store & manage code, track changes and allow collaborative development.\n",
    "* \r\n",
    "Data Asset Management - organize and manage data, provide access control, and backup asse\n",
    "* Development Environments - develop, test and deploy code\n",
    "* Execution Environments - provide computational resources and run the code\n",
    "run the code"
   ]
  },
  {
   "cell_type": "markdown",
   "id": "2e32f90d-3654-4157-88d4-dc63782303bc",
   "metadata": {},
   "source": [
    "Some of the popular languages that Data Scientists use are:\n",
    "<dd>1. Python</dd>\n",
    "<dd>2. R</dd>\n",
    "<dd>3. Julia</dd>\n",
    "<dd>4. SQL</dd>"
   ]
  },
  {
   "cell_type": "markdown",
   "id": "d87c112b-c206-4cc9-b5e3-1568b0f1dd9c",
   "metadata": {},
   "source": [
    "Some of the commonly used libraries used by Data Scientists include:\n",
    "<dd>1. TensorFlow</dd> \n",
    "<dd>2. Numpy</dd>\n",
    "<dd>3. Pandas</dd>\n",
    "<dd>4. Matplotlib</dd>"
   ]
  },
  {
   "cell_type": "markdown",
   "id": "03ed744b-60b7-49e9-8a74-0ac0546135d0",
   "metadata": {},
   "source": [
    "<h2>Data Science Tools</h2>"
   ]
  },
  {
   "cell_type": "markdown",
   "id": "532fc6dc-d3b8-4c95-9499-01d237b89c55",
   "metadata": {},
   "source": [
    "|Data Science Tools|\n",
    "|:----------------:|\n",
    "|RStudio           |\n",
    "|Apache Spark      |\n",
    "|Apache Hadoop     |"
   ]
  },
  {
   "cell_type": "markdown",
   "id": "d7c2149f-ff63-4707-b9a4-d63adf208899",
   "metadata": {},
   "source": [
    "<h3>Below are a few examples of evaluating arithmetic expressions in Python</h3>"
   ]
  },
  {
   "cell_type": "code",
   "execution_count": 1,
   "id": "968a663c-c138-4491-8f74-be07e0622163",
   "metadata": {},
   "outputs": [
    {
     "data": {
      "text/plain": [
       "17"
      ]
     },
     "execution_count": 1,
     "metadata": {},
     "output_type": "execute_result"
    }
   ],
   "source": [
    "#This a simple arithmetic expression to mutiply then add integers\n",
    "(3*4)+5"
   ]
  },
  {
   "cell_type": "code",
   "execution_count": 2,
   "id": "b0deed81-95f7-4b66-ac2d-af1f787eebe5",
   "metadata": {},
   "outputs": [
    {
     "data": {
      "text/plain": [
       "3.3333333333333335"
      ]
     },
     "execution_count": 2,
     "metadata": {},
     "output_type": "execute_result"
    }
   ],
   "source": [
    "# This will convert 200 minutes to hours by diving by 60\n",
    "minutes = 200\n",
    "convert_to_hour = minutes/60\n",
    "convert_to_hour"
   ]
  },
  {
   "cell_type": "markdown",
   "id": "b1517d19-18d0-42c0-b21f-6dd20eacafb4",
   "metadata": {},
   "source": [
    "<h2>Author</h2>\n",
    "Hung Tran"
   ]
  },
  {
   "cell_type": "code",
   "execution_count": null,
   "id": "f6e5e5b2-a712-4e53-96cf-5abcfd241a39",
   "metadata": {},
   "outputs": [],
   "source": []
  }
 ],
 "metadata": {
  "kernelspec": {
   "display_name": "Python 3 (ipykernel)",
   "language": "python",
   "name": "python3"
  },
  "language_info": {
   "codemirror_mode": {
    "name": "ipython",
    "version": 3
   },
   "file_extension": ".py",
   "mimetype": "text/x-python",
   "name": "python",
   "nbconvert_exporter": "python",
   "pygments_lexer": "ipython3",
   "version": "3.12.4"
  }
 },
 "nbformat": 4,
 "nbformat_minor": 5
}
